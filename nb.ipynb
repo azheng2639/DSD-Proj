{
 "cells": [
  {
   "cell_type": "code",
   "execution_count": null,
   "metadata": {},
   "outputs": [
    {
     "ename": "",
     "evalue": "",
     "output_type": "error",
     "traceback": [
      "\u001b[1;31mRunning cells with 'Python 3.12.3' requires the ipykernel package.\n",
      "\u001b[1;31m<a href='command:jupyter.createPythonEnvAndSelectController'>Create a Python Environment</a> with the required packages.\n",
      "\u001b[1;31mOr install 'ipykernel' using the command: '/bin/python -m pip install ipykernel -U --user --force-reinstall'"
     ]
    }
   ],
   "source": [
    "import random\n",
    "import base64\n",
    "import hashlib"
   ]
  },
  {
   "cell_type": "markdown",
   "metadata": {},
   "source": [
    "## 1. Diffie-Hellman Key Exchange Implementation\n",
    "\n",
    "### Mathematical Foundations\n",
    "\n",
    "Important constants\n",
    "- \\(p\\) is a large prime (modulus)\n",
    "- \\(g\\) is a primitive root modulo \\(p\\)\n",
    "\n",
    "Key exchange process:\n",
    "1. Alice generates private key \\($a \\in [2, p-2]$\\)\n",
    "2. Alice computes public key \\($A = g^a \\mod p$\\)\n",
    "3. Bob generates private key \\($b \\in [2, p-2]$\\)\n",
    "4. Bob computes public key \\($B = g^b \\mod p$\\)\n",
    "5. Shared secret: \\(s = $A^b \\mod p = B^a \\mod p$\\)\n",
    "\n"
   ]
  },
  {
   "cell_type": "markdown",
   "metadata": {},
   "source": [
    "## Our code requires a few helper functions as defined below"
   ]
  },
  {
   "cell_type": "code",
   "execution_count": null,
   "metadata": {},
   "outputs": [],
   "source": [
    "def is_prime(n: int, k: int = 5) -> bool:\n",
    "    \"\"\"https://en.wikipedia.org/wiki/Miller%E2%80%93Rabin_primality_test#Complexity\"\"\"\n",
    "    if n <= 1:\n",
    "        return False\n",
    "    if n <= 3:\n",
    "        return True\n",
    "    if n % 2 == 0:\n",
    "        return False\n",
    "\n",
    "    r, d = 0, n - 1\n",
    "    while d % 2 == 0:\n",
    "        r += 1\n",
    "        d //= 2"
   ]
  },
  {
   "cell_type": "markdown",
   "metadata": {},
   "source": [
    "The is_prime function acts to define whether or not a number **could** be prime. The above implementation is based on the Rabin primality test, which is based on Fermats little theorum. These tests go deep into depth, but are not the primary focus of this notebook."
   ]
  },
  {
   "cell_type": "code",
   "execution_count": null,
   "metadata": {},
   "outputs": [],
   "source": [
    "def generate_large_prime(bits: int = 1024) -> int:\n",
    "    \"\"\"Generate probable prime with specified bit length\"\"\"\n",
    "    while True:\n",
    "        p = random.getrandbits(bits)\n",
    "        p |= (1 << (bits - 1)) | 1\n",
    "        print(p)\n",
    "        if is_prime(p):\n",
    "            return p"
   ]
  },
  {
   "cell_type": "markdown",
   "metadata": {},
   "source": [
    "The generate_large_prime function generates a potential prime that is of power two, which is calculated using bit shifts. We require large prime numbers to act as our modulus"
   ]
  },
  {
   "cell_type": "code",
   "execution_count": null,
   "metadata": {},
   "outputs": [],
   "source": [
    "def find_primitive_root(p: int) -> int:\n",
    "    \"\"\"Find smallest primitive root modulo prime p\"\"\"\n",
    "    if p == 2:\n",
    "        return 1\n",
    "    \n",
    "    factors = set()\n",
    "    phi = p - 1\n",
    "    n = phi\n",
    "    d = 2\n",
    "    while d * d <= n:\n",
    "        while n % d == 0:\n",
    "            factors.add(d)\n",
    "            n //= d\n",
    "        d += 1\n",
    "    if n > 1:\n",
    "        factors.add(n)\n",
    "\n",
    "    for g in range(2, p):\n",
    "        if all(pow(g, phi // factor, p) != 1 for factor in factors):\n",
    "            return g\n",
    "    raise ValueError(\"Primitive root not found\")"
   ]
  },
  {
   "cell_type": "markdown",
   "metadata": {},
   "source": [
    "The primitive root is used as our g value. It is the basis for the shared secret between Alice and Bob and ensures that their secrets have a common derviation. In class, we used a 2 as a common g value. In instances where we want other primitive roots, the above code can be used to help find them based some p value."
   ]
  },
  {
   "cell_type": "code",
   "execution_count": null,
   "metadata": {},
   "outputs": [],
   "source": [
    "class DiffieHellman:\n",
    "    def __init__(self, key_bits: int = 2048, p: int = None, g: int = None):\n",
    "        self.p = p if p else generate_large_prime(key_bits)\n",
    "        self.g = g if g else find_primitive_root(self.p)\n",
    "        self.private_key = random.randint(2, self.p - 2)\n",
    "        self.public_key = pow(self.g, self.private_key, self.p)\n",
    "\n",
    "    def generate_shared_secret(self, other_public: int) -> int:\n",
    "        \"\"\"Compute shared secret using peer's public key\"\"\"\n",
    "        if not 2 <= other_public <= self.p - 2:\n",
    "            raise ValueError(\"Invalid public key\")\n",
    "        return pow(other_public, self.private_key, self.p)"
   ]
  },
  {
   "cell_type": "markdown",
   "metadata": {},
   "source": [
    "The DiffieHellman class is used to encapsulate each user. It abstracts the creation of shared secrets and stores the modulus, primitive root, public, and private keys. It is also used to calculate the shared secret between two users."
   ]
  },
  {
   "cell_type": "markdown",
   "metadata": {},
   "source": [
    "## 2. Base64 Encoding Utilities\n",
    "\n",
    "For safe transmission of binary data over text-based channels"
   ]
  },
  {
   "cell_type": "code",
   "execution_count": null,
   "metadata": {},
   "outputs": [],
   "source": [
    "def int_to_b64(num: int) -> str:\n",
    "    \"\"\"Convert integer to Base64 URL-safe string\"\"\"\n",
    "    byte_length = (num.bit_length() + 7) // 8\n",
    "    return base64.urlsafe_b64encode(num.to_bytes(byte_length, 'big')).decode()\n",
    "\n",
    "def b64_to_int(b64_str: str) -> int:\n",
    "    \"\"\"Convert Base64 string back to integer\"\"\"\n",
    "    return int.from_bytes(base64.urlsafe_b64decode(b64_str), 'big')"
   ]
  },
  {
   "cell_type": "markdown",
   "metadata": {},
   "source": [
    "## 3. Stream Cipher Implementation\n",
    "\n",
    "Using SHAKE128 extendable-output function (XOF) for arbitrary-length keystream"
   ]
  },
  {
   "cell_type": "code",
   "execution_count": null,
   "metadata": {},
   "outputs": [],
   "source": [
    "def generate_keystream(shared_secret: int, length: int) -> bytes:\n",
    "    \"\"\"Generate pseudorandom keystream from shared secret\"\"\"\n",
    "    secret_bytes = shared_secret.to_bytes((shared_secret.bit_length() + 7) // 8, 'big')\n",
    "    return hashlib.shake_128(secret_bytes).digest(length)\n",
    "\n",
    "def xor_encrypt(plaintext: bytes, keystream: bytes) -> bytes:\n",
    "    \"\"\"XOR plaintext with keystream\"\"\"\n",
    "    return bytes(pt ^ ks for pt, ks in zip(plaintext, keystream))\n",
    "\n",
    "def encrypt_message(message: str, shared_secret: int) -> str:\n",
    "    \"\"\"Encrypt message to Base64 ciphertext\"\"\"\n",
    "    plainbytes = message.encode('utf-8')\n",
    "    keystream = generate_keystream(shared_secret, len(plainbytes))\n",
    "    cipherbytes = xor_encrypt(plainbytes, keystream)\n",
    "    return base64.urlsafe_b64encode(cipherbytes).decode()\n",
    "\n",
    "def decrypt_message(ciphertext: str, shared_secret: int) -> str:\n",
    "    \"\"\"Decrypt Base64 ciphertext to plaintext\"\"\"\n",
    "    cipherbytes = base64.urlsafe_b64decode(ciphertext)\n",
    "    keystream = generate_keystream(shared_secret, len(cipherbytes))\n",
    "    plainbytes = xor_encrypt(cipherbytes, keystream)\n",
    "    return plainbytes.decode('utf-8')"
   ]
  },
  {
   "cell_type": "markdown",
   "metadata": {},
   "source": [
    "## 4. Example Usage\n",
    "\n",
    "### Key Exchange Demonstration"
   ]
  },
  {
   "cell_type": "code",
   "execution_count": null,
   "metadata": {},
   "outputs": [],
   "source": [
    "# Alice's setup\n",
    "alice = DiffieHellman(key_bits=256, p=2**255 - 19, g = 2)  # using 25519 for p, 2 for g as placeholders\n",
    "print(f\"Alice's public key as an integer: {alice.public_key}\")\n",
    "print(f\"Alice's public key in base 64: {int_to_b64(alice.public_key)}\")\n",
    "\n",
    "# Bob's setup (using Alice's p and g)\n",
    "bob = DiffieHellman(p=alice.p, g=alice.g)\n",
    "print(f\"Bob's public key as an integer: {bob.public_key}\")\n",
    "print(f\"Bob's public key in base 64: {int_to_b64(bob.public_key)}\")\n",
    "\n",
    "# Secret computation\n",
    "alice_secret = alice.generate_shared_secret(bob.public_key)\n",
    "bob_secret = bob.generate_shared_secret(alice.public_key)\n",
    "\n",
    "print(f\"\\nShared secret match: {alice_secret == bob_secret}\")\n",
    "print(f\"Shared secret value: {alice_secret}\")"
   ]
  },
  {
   "cell_type": "markdown",
   "metadata": {},
   "source": [
    "### Encryption/Decryption Demonstration"
   ]
  },
  {
   "cell_type": "markdown",
   "metadata": {},
   "source": [
    "Alice wants to share Bob a message. She will encrypt her message with her shared secret. She will then send the ciphertext to Bob. The cyphertext seems nearly random."
   ]
  },
  {
   "cell_type": "code",
   "execution_count": null,
   "metadata": {},
   "outputs": [
    {
     "ename": "",
     "evalue": "",
     "output_type": "error",
     "traceback": [
      "\u001b[1;31mRunning cells with 'Python 3.12.3' requires the ipykernel package.\n",
      "\u001b[1;31m<a href='command:jupyter.createPythonEnvAndSelectController'>Create a Python Environment</a> with the required packages.\n",
      "\u001b[1;31mOr install 'ipykernel' using the command: '/bin/python -m pip install ipykernel -U --user --force-reinstall'"
     ]
    }
   ],
   "source": [
    "message = \"This is a super super secret message that no one should see!\"\n",
    "\n",
    "ciphertext = encrypt_message(message, alice_secret) \n",
    "print(f\"\\nEncrypted ciphertext: {ciphertext}\")"
   ]
  },
  {
   "cell_type": "markdown",
   "metadata": {},
   "source": [
    "Bob can use his shared secret to decrypt the cyphertext that Alice had sent him. "
   ]
  },
  {
   "cell_type": "code",
   "execution_count": null,
   "metadata": {},
   "outputs": [],
   "source": [
    "decrypted = decrypt_message(ciphertext, bob_secret)\n",
    "print(f\"\\nDecrypted message: {decrypted}\")"
   ]
  },
  {
   "cell_type": "markdown",
   "metadata": {},
   "source": [
    "Alice and Bob both have the exact same shared secret, however this shared secret was never shared explcitly. They were able to derive this shared secret solely based on each other's public keys. As such, both Alice and Bob can communicate securely both ways."
   ]
  },
  {
   "cell_type": "code",
   "execution_count": null,
   "metadata": {},
   "outputs": [],
   "source": []
  },
  {
   "cell_type": "code",
   "execution_count": null,
   "metadata": {},
   "outputs": [],
   "source": []
  }
 ],
 "metadata": {
  "kernelspec": {
   "display_name": "Python 3",
   "language": "python",
   "name": "python3"
  },
  "language_info": {
   "codemirror_mode": {
    "name": "ipython",
    "version": 3
   },
   "file_extension": ".py",
   "mimetype": "text/x-python",
   "name": "python",
   "nbconvert_exporter": "python",
   "pygments_lexer": "ipython3",
   "version": "3.12.3"
  }
 },
 "nbformat": 4,
 "nbformat_minor": 4
}
